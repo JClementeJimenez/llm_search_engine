{
 "cells": [
  {
   "cell_type": "code",
   "execution_count": 24,
   "metadata": {},
   "outputs": [],
   "source": [
    "from mistralai import Mistral\n",
    "import yaml\n",
    "import json\n",
    "import requests \n",
    "from tqdm.auto import notebook_tqdm\n",
    "from elasticsearch import Elasticsearch\n",
    "import time\n",
    "from sentence_transformers import SentenceTransformer #embeddings"
   ]
  },
  {
   "cell_type": "markdown",
   "metadata": {},
   "source": [
    "Concepts related to elastic search:\n",
    "* documents: collection of fields with its associate values\n",
    "* index: concept of organizing the documents in \"table of contents\" so it can be search more efficiently\n",
    "\n",
    "In this case, what we are indexing is the embeddings, not the documents"
   ]
  },
  {
   "cell_type": "code",
   "execution_count": 3,
   "metadata": {},
   "outputs": [],
   "source": [
    "docs_url = 'https://github.com/alexeygrigorev/llm-rag-workshop/raw/main/notebooks/documents.json'\n",
    "docs_response = requests.get(docs_url)\n",
    "documents_raw = docs_response.json()\n",
    "\n",
    "documents = []\n",
    "\n",
    "# elastic search wants evrything in a single level, the original json has different levels of hierarchy\n",
    "for course in documents_raw:\n",
    "    course_name = course['course']\n",
    "\n",
    "    for doc in course['documents']:\n",
    "        doc['course'] = course_name\n",
    "        documents.append(doc)"
   ]
  },
  {
   "cell_type": "code",
   "execution_count": 4,
   "metadata": {},
   "outputs": [],
   "source": [
    "model = SentenceTransformer(\"all-mpnet-base-v2\")"
   ]
  },
  {
   "cell_type": "code",
   "execution_count": 5,
   "metadata": {},
   "outputs": [],
   "source": [
    "test = model.encode(\"hello world\")"
   ]
  },
  {
   "cell_type": "code",
   "execution_count": 6,
   "metadata": {},
   "outputs": [
    {
     "name": "stdout",
     "output_type": "stream",
     "text": [
      "768 [ 2.62497254e-02  1.33956019e-02 -4.53314278e-03 -2.17914544e-02\n",
      "  5.45518659e-02 -4.96648299e-03  6.65560272e-03  3.06262691e-02\n",
      " -5.76278474e-03 -4.56204684e-03 -3.31329461e-03 -4.84962501e-02\n",
      " -1.13640223e-02  3.50774229e-02  9.30946916e-02 -8.66874084e-02\n",
      "  5.10865487e-02  9.88610461e-03 -6.35692477e-02 -8.55022110e-03\n",
      "  7.05439178e-03 -3.86239309e-03  2.47442871e-02  4.28849421e-02\n",
      "  3.50941271e-02 -2.98482478e-02  1.02525903e-02  2.23449301e-02\n",
      "  2.08899938e-02  9.49220732e-03 -3.30444127e-02 -1.22841550e-02\n",
      "  5.35289273e-02  2.54291948e-02  2.02217666e-06 -3.41910198e-02\n",
      "  9.61000286e-03 -1.64845269e-02  5.60948672e-03 -4.25002817e-03\n",
      " -2.28012074e-02  4.03546654e-02  3.05205584e-03  3.13725919e-02\n",
      " -1.08123543e-02 -3.55707854e-02  2.22929213e-02  1.68712495e-03\n",
      "  2.07724981e-03  2.31162217e-02  6.88587269e-03 -6.83094654e-03\n",
      " -4.87613045e-02 -2.70107724e-02  1.54910982e-02  3.73168960e-02\n",
      "  2.72793565e-02  2.64989194e-02 -1.69234653e-03 -2.88223643e-02\n",
      "  2.56629270e-02 -4.66158614e-03 -2.70640422e-02 -6.09545177e-03\n",
      "  1.81667116e-02  4.13882807e-02 -3.70311439e-02  5.54033183e-03\n",
      "  1.47259161e-02  6.87893033e-02  2.36484352e-02 -2.46844925e-02\n",
      "  1.02945538e-02  8.59180689e-02  8.08096118e-03 -8.04877728e-02\n",
      " -3.58358622e-02  7.39985108e-02  1.42715462e-02  2.01424416e-02\n",
      " -1.49211492e-02  2.84524448e-02  2.44244910e-03  5.62896999e-03\n",
      " -3.74397412e-02  8.27688500e-02  1.30428867e-02 -2.15966702e-02\n",
      "  9.58254468e-03 -5.75335557e-03 -3.63349952e-02 -1.55773771e-03\n",
      "  1.27767678e-03  2.24882644e-02  1.46659935e-04 -3.70681360e-02\n",
      "  5.93734393e-03  1.48294913e-02  2.46303212e-02 -9.74008143e-02\n",
      "  2.00256854e-02  4.41554338e-02  1.79743618e-02  4.34879176e-02\n",
      " -3.15323775e-03  4.37949635e-02  1.06992889e-02 -9.92321521e-02\n",
      "  5.01763634e-03  2.87885475e-03 -2.83018984e-02  4.10155905e-03\n",
      "  4.66199480e-02  1.95323513e-03 -5.54155298e-02 -2.79676709e-02\n",
      "  1.23649528e-02  3.33715305e-02  2.88455356e-02  1.36993323e-02\n",
      "  7.41837407e-03 -1.08768502e-02  1.00570861e-02  1.44832507e-02\n",
      "  4.38699350e-02 -1.98576041e-02 -5.08848950e-02  3.38829048e-02\n",
      " -2.17587352e-02 -7.01805204e-02 -1.95555948e-02  1.05304820e-02\n",
      "  2.22205836e-02  3.38698477e-02  2.78868154e-02  4.43024226e-02\n",
      " -3.16696614e-02  2.38761585e-02  3.17284279e-02 -1.20064523e-03\n",
      " -4.04756814e-02  1.87932290e-02  7.71999918e-03 -1.31946104e-02\n",
      "  5.70650259e-03 -1.35246767e-02  5.61381392e-02  6.57747090e-02\n",
      "  2.25389525e-02 -2.28491314e-02 -1.39800534e-02 -1.49853909e-02\n",
      " -1.16925798e-01  7.80458841e-03  3.73103134e-02  2.58347113e-02\n",
      "  3.98825184e-02 -2.46552825e-02 -7.07614347e-02 -5.75531647e-02\n",
      " -1.79763716e-02  2.77854986e-02  3.74700911e-02  1.85782984e-02\n",
      "  3.55660990e-02  3.14529277e-02  2.10270248e-02 -1.33698946e-02\n",
      " -8.70452262e-03 -6.77806064e-02  1.13223575e-03  1.04927840e-02\n",
      " -1.48623921e-02  2.80504413e-02  4.50121472e-04 -2.93416847e-02\n",
      " -7.88550824e-02  3.55605483e-02 -6.51659630e-03 -2.29458464e-03\n",
      " -3.99208292e-02 -9.32640359e-02 -2.62660235e-02 -2.38332059e-02\n",
      " -4.45718952e-02  4.15298492e-02  4.65679448e-04  1.06053120e-02\n",
      " -4.30697948e-02  3.62521112e-02  1.19544780e-02  3.86062339e-02\n",
      " -5.75989746e-02  2.57220725e-03  2.36844481e-03  2.59930175e-02\n",
      "  3.42809111e-02 -1.03799645e-02  4.91659380e-02 -7.21847191e-02\n",
      " -3.62768732e-02  4.88623269e-02  2.72757448e-02 -3.33766341e-02\n",
      " -2.31630970e-02  1.50820566e-02  6.00415803e-02 -2.04426851e-02\n",
      "  3.19598727e-02  3.06641739e-02 -8.69868137e-03  2.64434097e-03\n",
      "  1.82678085e-02  4.33071703e-02 -3.46885622e-02 -1.17626842e-02\n",
      "  5.63807972e-03  6.68613687e-02 -1.03100697e-02  8.21337253e-02\n",
      " -1.62561275e-02  6.94411050e-04  4.94338237e-02 -1.73100643e-02\n",
      "  5.90508580e-02 -8.81266668e-02  2.37825271e-02  1.63236223e-02\n",
      " -3.35366279e-03  2.34407987e-02 -3.27979773e-02 -1.78445932e-02\n",
      " -7.08486466e-03 -8.53289384e-03  4.01276862e-03 -6.45410176e-03\n",
      "  4.80711535e-02 -5.28292879e-02  5.25176376e-02 -1.23377226e-01\n",
      "  4.19207104e-02  5.36606386e-02  2.75577176e-02 -4.16351072e-02\n",
      "  6.67174608e-02  4.38441597e-02  6.95870040e-05  2.47125849e-02\n",
      " -8.70131014e-04 -2.13062838e-02  8.81458167e-03  7.48228002e-03\n",
      " -7.88962767e-02  6.32270193e-03 -2.17949576e-03 -5.31374700e-02\n",
      " -3.53154019e-02 -2.72910809e-04 -5.50591461e-02 -7.04757720e-02\n",
      "  2.10635476e-02 -2.37382799e-02  1.34951612e-02  3.28117087e-02\n",
      "  3.49521190e-02  1.18359746e-02 -7.46910041e-03 -8.20020512e-02\n",
      " -2.74184626e-02 -4.51467140e-03  2.16924157e-02  2.47377511e-02\n",
      "  3.47252898e-02 -1.90671254e-02 -2.30450965e-02 -1.16515178e-02\n",
      "  5.89145832e-02  1.04215043e-02 -9.95438080e-04  2.96745263e-02\n",
      "  2.57838331e-02  1.49734933e-02 -3.11786328e-02  1.03497710e-02\n",
      "  1.98984034e-02  4.43563908e-02  5.43500446e-02 -5.14321104e-02\n",
      "  3.65331210e-02  5.29723009e-03 -6.54721484e-02  2.12215967e-02\n",
      " -4.36462648e-02 -2.59935614e-02  1.24233523e-02 -1.41677177e-02\n",
      " -1.00886067e-02 -6.31849840e-02  1.57956295e-02  1.17892530e-02\n",
      " -1.50525682e-02  4.03677523e-02  2.34275069e-02 -1.16550364e-02\n",
      "  9.29800980e-03 -1.38381422e-02 -9.01364489e-04 -7.61926025e-02\n",
      "  6.51618699e-03  4.41362187e-02  4.53190953e-02 -2.28104256e-02\n",
      "  1.59577206e-02  4.98049594e-02  4.30293102e-03 -2.25869995e-02\n",
      " -3.30142267e-02 -9.51203182e-02  3.49786915e-02 -3.35722417e-02\n",
      "  3.52199301e-02  3.33828628e-02 -7.37044262e-03  8.54227692e-03\n",
      " -5.32434285e-02  8.69879499e-02 -2.48277634e-02  4.80566919e-02\n",
      "  2.68975366e-02  3.82550433e-02  1.77725945e-02  1.92632452e-02\n",
      " -1.44463032e-02 -1.29070096e-02 -6.71454221e-02 -3.93482856e-02\n",
      "  4.93942872e-02 -4.65033017e-02 -9.49099567e-03 -1.83781702e-02\n",
      " -4.56147231e-02 -4.45244201e-02 -4.48369980e-02 -7.83960614e-03\n",
      " -4.27115671e-02 -1.60476435e-02 -1.84479973e-03 -2.75298115e-02\n",
      " -9.40900669e-02 -2.13959385e-02 -2.24594842e-03 -4.15486768e-02\n",
      "  2.13372149e-02 -2.49898452e-02  9.49035026e-03 -5.90740219e-02\n",
      "  1.69435758e-02 -1.10046314e-02 -1.83361594e-03 -3.55801992e-02\n",
      "  9.15960316e-03 -3.71351354e-02  5.47757372e-02  7.62470663e-02\n",
      " -4.24641185e-03 -2.15269048e-02  1.08218081e-02  3.76884975e-02\n",
      " -2.88056508e-02 -8.36863089e-03 -1.67220947e-03  4.81706373e-02\n",
      " -1.54920919e-02  6.90931454e-02 -1.44712729e-02  2.29219142e-02\n",
      " -4.31165211e-02 -1.75331477e-02  9.50530823e-03 -1.07029788e-02\n",
      "  2.86666080e-02 -1.99809764e-02  1.07809398e-02 -4.06640535e-03\n",
      " -1.84677672e-02 -5.31762205e-02 -1.32229375e-02  9.25226137e-03\n",
      "  2.87105097e-03  4.03336696e-02  2.85913441e-02 -8.19123164e-02\n",
      "  1.37261031e-02  4.59069619e-03 -3.64198769e-03  3.09045818e-02\n",
      "  1.65565591e-03  9.05498955e-03 -5.49195781e-02  3.02592646e-02\n",
      " -3.55438478e-02  3.58691774e-02  8.15154687e-02  6.92180404e-03\n",
      "  2.51036454e-02  1.02632437e-02  5.84740341e-02  1.80936214e-02\n",
      " -3.81959975e-03  1.24298716e-02 -3.22086997e-02  1.62024405e-02\n",
      "  9.93161928e-03 -2.89613213e-02 -2.85862982e-02 -2.59575583e-02\n",
      " -3.92319039e-02 -5.24148904e-02 -1.64503977e-02 -8.66540428e-03\n",
      "  2.03866288e-02  2.06679981e-02 -8.19765963e-03  6.04347810e-02\n",
      " -3.50795947e-02  6.68942044e-03  4.37312275e-02  9.93515775e-02\n",
      "  1.56277623e-02  1.20488955e-02 -8.99249315e-03  9.42249317e-03\n",
      "  3.68120559e-02  4.70179953e-02  1.85076147e-02 -1.11376187e-02\n",
      " -5.24672307e-03  9.60914697e-03 -5.00847064e-02 -3.26256119e-02\n",
      " -2.25763652e-03 -8.21911916e-03 -1.95992570e-02 -3.95741267e-03\n",
      " -2.25986801e-02  6.96903691e-02  4.61389730e-03 -2.06906907e-02\n",
      "  1.68310245e-03 -5.96611723e-02  9.72243678e-03 -2.38532424e-02\n",
      " -9.98367742e-03 -5.31821847e-02  5.98524744e-03 -8.08277279e-02\n",
      "  1.45914219e-02  2.43462604e-02  2.26309728e-02 -3.52621861e-02\n",
      "  9.61499587e-02  2.82537024e-02 -2.89135184e-02  2.59481221e-02\n",
      "  4.75233421e-02 -3.47233228e-02 -1.92595422e-02  4.60115820e-02\n",
      "  4.84624319e-02 -4.26454376e-03 -7.45288581e-02  9.60193481e-03\n",
      " -2.45784577e-02 -3.74406688e-02 -5.40451379e-03  7.39086643e-02\n",
      " -3.89903001e-02 -3.72323580e-02 -6.63348138e-02 -2.15708259e-02\n",
      " -1.34326918e-02 -2.51606200e-02  5.52603742e-03  1.43811693e-02\n",
      " -9.46519990e-03 -7.71225542e-02  7.95497969e-02 -3.71969156e-02\n",
      " -2.75062006e-02  4.17073537e-03 -4.18305257e-03  3.04683428e-02\n",
      "  6.77572340e-02  2.93374583e-02 -4.71270345e-02  3.88246700e-02\n",
      "  3.15861702e-02 -2.67401226e-02 -1.30120981e-02  4.24874872e-02\n",
      "  1.79976374e-02  4.02197987e-02 -1.55151887e-02 -2.55870055e-02\n",
      "  2.52626720e-03 -3.84776853e-02  5.11510205e-03 -1.82895698e-02\n",
      "  2.69922093e-02 -3.99045646e-02  3.45778763e-02  2.19263900e-02\n",
      " -3.05304565e-02 -9.27077979e-02  3.04247234e-02  9.68218371e-02\n",
      " -3.88686603e-04 -4.47558425e-03  1.32846562e-02 -3.48610878e-02\n",
      "  2.51738597e-02 -4.63435706e-03  3.12909833e-06  9.19932127e-03\n",
      "  2.06600502e-02  2.11718082e-02  2.50594178e-03 -1.71334166e-02\n",
      "  1.50620406e-02 -4.56318678e-03 -5.62424324e-02 -2.18724590e-02\n",
      "  5.29784113e-02  1.55144907e-03 -4.80728149e-02  7.10320249e-02\n",
      "  4.96217795e-02  3.27338874e-02 -4.32278542e-03  7.82497004e-02\n",
      " -1.84872001e-02  4.80816625e-02 -1.47921992e-02  3.33992317e-02\n",
      "  1.66570116e-02  9.76231992e-02  5.98399807e-03  4.43736883e-03\n",
      " -1.97302084e-02 -3.11073214e-02  2.27348972e-03  4.39245068e-02\n",
      " -4.60187020e-03 -1.13023641e-02 -1.55903939e-02 -7.42216317e-33\n",
      " -2.49794014e-02  2.99127847e-02 -5.30289300e-02 -1.46364570e-02\n",
      " -7.89250135e-02 -2.48658843e-02  1.28542334e-02  1.11491671e-02\n",
      " -3.73216607e-02  3.24796923e-02 -3.91105600e-02  6.52838871e-03\n",
      "  2.64384840e-02  6.14208588e-03 -1.86559148e-02  3.40971258e-03\n",
      "  3.81293856e-02  2.42241472e-02 -2.95955501e-02  2.04488561e-02\n",
      "  3.49315768e-03  9.55075491e-03  6.40823394e-02  1.49809876e-02\n",
      "  8.84859040e-02 -2.10824311e-02 -4.01696190e-02 -4.40686755e-02\n",
      "  4.37960327e-02 -2.25868374e-02 -5.57878800e-02 -1.75539823e-03\n",
      " -8.29896796e-03  4.67542037e-02 -4.98652086e-03  5.21767102e-02\n",
      " -1.51116885e-02 -1.26756560e-02  3.61688696e-02 -1.15187857e-02\n",
      " -6.84312312e-03  4.89744432e-02 -2.85411701e-02 -4.78571951e-02\n",
      "  1.36077516e-02  2.26742383e-02 -1.37310335e-02  1.02783833e-02\n",
      "  2.09001750e-02 -9.63367242e-03 -5.32994084e-02 -3.61589082e-02\n",
      " -8.14298075e-03 -4.95011844e-02 -9.54939127e-02 -1.21991234e-02\n",
      " -8.74383189e-03 -5.23864618e-03  6.48623612e-03  1.45376390e-02\n",
      "  7.76151121e-02 -4.12056111e-02 -4.28150408e-02  2.35144142e-02\n",
      "  3.29236388e-02  6.10973574e-02  1.18549362e-01  6.07568352e-03\n",
      " -3.11013255e-02 -7.65525550e-02 -3.04324441e-02 -1.44611886e-02\n",
      " -5.45215979e-02  3.34890261e-02 -3.24219391e-02 -2.49983482e-02\n",
      " -6.52054846e-02 -2.15369910e-02 -1.78652275e-02 -2.21928004e-02\n",
      " -1.51622351e-02  2.34850310e-03 -1.19776633e-02  5.84643800e-03\n",
      "  1.60011835e-02  3.54547575e-02 -1.57741848e-02  2.86006853e-02\n",
      " -4.16624099e-02  1.17358789e-02 -1.68064684e-02 -4.30734381e-02\n",
      "  1.78392064e-02 -3.77089679e-02 -3.67521681e-02 -3.38923559e-02\n",
      "  3.93723324e-02 -2.42405552e-02  1.21491877e-02 -1.63539965e-02\n",
      "  1.21118771e-02 -5.70209464e-03 -4.87001613e-02  2.49313544e-02\n",
      " -5.00459550e-03  6.18997030e-02 -3.40737365e-02  4.01984248e-03\n",
      " -5.24218231e-02 -2.35593263e-02  8.22219346e-03 -1.48335879e-04\n",
      "  2.12523341e-02  1.96567979e-02 -3.04158442e-02  2.18590982e-02\n",
      "  2.21534539e-02  4.48977761e-03 -4.51374166e-02 -1.89233478e-02\n",
      "  2.92339157e-02 -2.61098780e-02 -4.77749668e-02  2.39598881e-02\n",
      " -3.18275169e-02 -1.24036269e-02 -2.47069541e-02  4.30944562e-02\n",
      "  3.40328440e-02  6.46174187e-03  1.72986723e-02 -3.29163149e-02\n",
      "  2.58966509e-07 -8.84882547e-03 -3.63073349e-02 -1.73811950e-02\n",
      "  8.19883943e-02  2.19833129e-03  2.90417410e-02 -1.80670060e-02\n",
      "  8.86254236e-02  2.42361408e-02  2.36133318e-02 -1.31045273e-02\n",
      " -2.19068043e-02  1.15573537e-02 -8.91206861e-02 -6.38024211e-02\n",
      " -9.55568347e-03 -5.43705411e-02 -1.18225731e-01 -9.21181310e-03\n",
      " -3.69607471e-03 -2.87697650e-02  1.87657364e-02  5.11744118e-04\n",
      "  2.45605013e-03  1.56071335e-02 -7.23078568e-03  2.80106403e-02\n",
      " -3.65717411e-02  1.70415156e-02  9.62629076e-03 -4.82709855e-02\n",
      " -6.17021918e-02  1.68396551e-02 -3.68994400e-02  1.74059123e-02\n",
      " -2.12020893e-02  3.65191661e-02  3.24847475e-02  1.51660219e-02\n",
      "  8.81039277e-02 -1.64701976e-02  1.41586503e-02 -2.65972018e-02\n",
      " -3.82449068e-02  2.21499987e-02  1.81603041e-02  1.64998919e-02\n",
      "  1.00875110e-03 -6.77673891e-02 -2.97931805e-02  3.68878408e-03\n",
      " -2.12177876e-02  1.49496235e-02  9.26232804e-03 -2.48201080e-02\n",
      "  1.19676683e-02  6.19069785e-02  1.97807942e-02  1.34802517e-02\n",
      " -2.25955546e-02 -1.23109743e-02 -6.70060441e-02  1.27554806e-02\n",
      "  3.32273804e-02 -2.49800514e-02 -7.90124104e-05 -3.12571856e-03\n",
      "  1.15915418e-34 -4.75036819e-03  3.32459845e-02  3.27794850e-02\n",
      "  4.58135009e-02 -2.86267437e-02 -3.78417387e-03 -5.82717210e-02\n",
      " -6.22483157e-03  3.55340391e-02 -3.07969060e-02 -1.05514321e-02]\n"
     ]
    }
   ],
   "source": [
    "print(len(test), test)"
   ]
  },
  {
   "cell_type": "code",
   "execution_count": 7,
   "metadata": {},
   "outputs": [
    {
     "data": {
      "text/plain": [
       "{'text': 'GitHub - DataTalksClub data-engineering-zoomcamp#prerequisites',\n",
       " 'section': 'General course-related questions',\n",
       " 'question': 'Course - What are the prerequisites for this course?',\n",
       " 'course': 'data-engineering-zoomcamp'}"
      ]
     },
     "execution_count": 7,
     "metadata": {},
     "output_type": "execute_result"
    }
   ],
   "source": [
    "documents[1]"
   ]
  },
  {
   "cell_type": "code",
   "execution_count": 9,
   "metadata": {},
   "outputs": [],
   "source": [
    "#embedding of some of the fields of the documents\n",
    "\n",
    "operations = []\n",
    "\n",
    "for doc in documents:\n",
    "    doc['test_vector'] = model.encode(doc['text']).tolist()\n",
    "    operations.append(doc)"
   ]
  },
  {
   "cell_type": "code",
   "execution_count": null,
   "metadata": {},
   "outputs": [
    {
     "name": "stdout",
     "output_type": "stream",
     "text": [
      "Conectado a Elasticsearch!\n"
     ]
    },
    {
     "name": "stderr",
     "output_type": "stream",
     "text": [
      "/tmp/ipykernel_35754/395609063.py:1: DeprecationWarning: The 'timeout' parameter is deprecated in favor of 'request_timeout'\n",
      "  es_client = Elasticsearch(\n"
     ]
    }
   ],
   "source": [
    "es_client = Elasticsearch(\n",
    "    hosts=[{'host': 'localhost', 'port': 9200, 'scheme': 'http'}],\n",
    "    request_timeout=60,\n",
    "    max_retries=10,\n",
    "    retry_on_timeout=True\n",
    ")\n",
    "\n",
    "# Prueba la conexión\n",
    "if es_client.ping():\n",
    "    print(\"Conectado a Elasticsearch!\")\n",
    "else:\n",
    "    print(\"No se pudo conectar a Elasticsearch.\")"
   ]
  },
  {
   "cell_type": "markdown",
   "metadata": {},
   "source": [
    "before defining the index, we need to provide a mapping. the mapping is like an schema for a database, it gives the name of the fields plus the data types so it can stablish the index"
   ]
  },
  {
   "cell_type": "code",
   "execution_count": 15,
   "metadata": {},
   "outputs": [],
   "source": [
    "index_settings = {\n",
    "    \"settings\": {\n",
    "        \"number_of_shards\": 1,\n",
    "        \"number_of_replicas\": 0\n",
    "    },\n",
    "    \"mappings\": {\n",
    "        \"properties\": {\n",
    "            \"text\": {\"type\": \"text\"},\n",
    "            \"section\": {\"type\": \"text\"},\n",
    "            \"question\": {\"type\": \"text\"},\n",
    "            \"course\": {\"type\": \"keyword\"},\n",
    "            \"text_vector\":{\"type\":\"dense_vector\", \"dims\":768, \"index\":True, \"similarity\":\"cosine\"} #dims comes from the model and the kind of similarity chosen\n",
    "        }\n",
    "    }\n",
    "}"
   ]
  },
  {
   "cell_type": "code",
   "execution_count": null,
   "metadata": {},
   "outputs": [
    {
     "name": "stdout",
     "output_type": "stream",
     "text": [
      "Index questions_sem4 created successfully.\n"
     ]
    }
   ],
   "source": [
    "index_name = \"questions_sem4\"\n",
    "\n",
    "if es_client.indices.exists(index=index_name):\n",
    "    try:\n",
    "        es_client.indices.delete(index=index_name, ignore_unavailable=True)\n",
    "        print(f\"Index {index_name} deleted successfully.\")\n",
    "    except Exception as e:\n",
    "        print(f\"Error deleting index {index_name}: {e}\")\n",
    "\n",
    "# Wait a short time before attempting to create the index again \n",
    "while es_client.indices.exists(index=index_name):\n",
    "    print(\"Waiting for index to be fully deleted...\")\n",
    "    time.sleep(0.5)\n",
    "\n",
    "try:\n",
    "    es_client.indices.create(index=index_name, body=index_settings)\n",
    "    print(f\"Index {index_name} created successfully.\")\n",
    "except Exception as e:\n",
    "    print(f\"Error creating index {index_name}: {e}\")\n"
   ]
  },
  {
   "cell_type": "code",
   "execution_count": 26,
   "metadata": {},
   "outputs": [],
   "source": [
    "# index_info = es_client.indices.get(index=index_name)\n",
    "# print(index_info)\n"
   ]
  },
  {
   "cell_type": "code",
   "execution_count": 27,
   "metadata": {},
   "outputs": [],
   "source": [
    "# es_client.indices.close(index=index_name)\n"
   ]
  },
  {
   "cell_type": "code",
   "execution_count": 28,
   "metadata": {},
   "outputs": [],
   "source": [
    "# cluster_health = es_client.cluster.health()\n",
    "# print(cluster_health)\n"
   ]
  },
  {
   "cell_type": "code",
   "execution_count": null,
   "metadata": {},
   "outputs": [
    {
     "data": {
      "application/vnd.jupyter.widget-view+json": {
       "model_id": "95e38264752b493aa128fb06e2f342f1",
       "version_major": 2,
       "version_minor": 0
      },
      "text/plain": [
       "  0%|          | 0/948 [00:00<?, ?it/s]"
      ]
     },
     "metadata": {},
     "output_type": "display_data"
    },
    {
     "ename": "ConnectionTimeout",
     "evalue": "Connection timeout caused by: ConnectionTimeout(Connection timeout caused by: ReadTimeoutError(HTTPConnectionPool(host='localhost', port=9200): Read timed out. (read timeout=30)))",
     "output_type": "error",
     "traceback": [
      "\u001b[0;31m---------------------------------------------------------------------------\u001b[0m",
      "\u001b[0;31mTimeoutError\u001b[0m                              Traceback (most recent call last)",
      "File \u001b[0;32m~/.local/lib/python3.12/site-packages/urllib3/connectionpool.py:536\u001b[0m, in \u001b[0;36mHTTPConnectionPool._make_request\u001b[0;34m(self, conn, method, url, body, headers, retries, timeout, chunked, response_conn, preload_content, decode_content, enforce_content_length)\u001b[0m\n\u001b[1;32m    535\u001b[0m \u001b[38;5;28;01mtry\u001b[39;00m:\n\u001b[0;32m--> 536\u001b[0m     response \u001b[38;5;241m=\u001b[39m \u001b[43mconn\u001b[49m\u001b[38;5;241;43m.\u001b[39;49m\u001b[43mgetresponse\u001b[49m\u001b[43m(\u001b[49m\u001b[43m)\u001b[49m\n\u001b[1;32m    537\u001b[0m \u001b[38;5;28;01mexcept\u001b[39;00m (BaseSSLError, \u001b[38;5;167;01mOSError\u001b[39;00m) \u001b[38;5;28;01mas\u001b[39;00m e:\n",
      "File \u001b[0;32m~/.local/lib/python3.12/site-packages/urllib3/connection.py:507\u001b[0m, in \u001b[0;36mHTTPConnection.getresponse\u001b[0;34m(self)\u001b[0m\n\u001b[1;32m    506\u001b[0m \u001b[38;5;66;03m# Get the response from http.client.HTTPConnection\u001b[39;00m\n\u001b[0;32m--> 507\u001b[0m httplib_response \u001b[38;5;241m=\u001b[39m \u001b[38;5;28;43msuper\u001b[39;49m\u001b[43m(\u001b[49m\u001b[43m)\u001b[49m\u001b[38;5;241;43m.\u001b[39;49m\u001b[43mgetresponse\u001b[49m\u001b[43m(\u001b[49m\u001b[43m)\u001b[49m\n\u001b[1;32m    509\u001b[0m \u001b[38;5;28;01mtry\u001b[39;00m:\n",
      "File \u001b[0;32m~/.python/current/lib/python3.12/http/client.py:1419\u001b[0m, in \u001b[0;36mHTTPConnection.getresponse\u001b[0;34m(self)\u001b[0m\n\u001b[1;32m   1418\u001b[0m \u001b[38;5;28;01mtry\u001b[39;00m:\n\u001b[0;32m-> 1419\u001b[0m     \u001b[43mresponse\u001b[49m\u001b[38;5;241;43m.\u001b[39;49m\u001b[43mbegin\u001b[49m\u001b[43m(\u001b[49m\u001b[43m)\u001b[49m\n\u001b[1;32m   1420\u001b[0m \u001b[38;5;28;01mexcept\u001b[39;00m \u001b[38;5;167;01mConnectionError\u001b[39;00m:\n",
      "File \u001b[0;32m~/.python/current/lib/python3.12/http/client.py:331\u001b[0m, in \u001b[0;36mHTTPResponse.begin\u001b[0;34m(self)\u001b[0m\n\u001b[1;32m    330\u001b[0m \u001b[38;5;28;01mwhile\u001b[39;00m \u001b[38;5;28;01mTrue\u001b[39;00m:\n\u001b[0;32m--> 331\u001b[0m     version, status, reason \u001b[38;5;241m=\u001b[39m \u001b[38;5;28;43mself\u001b[39;49m\u001b[38;5;241;43m.\u001b[39;49m\u001b[43m_read_status\u001b[49m\u001b[43m(\u001b[49m\u001b[43m)\u001b[49m\n\u001b[1;32m    332\u001b[0m     \u001b[38;5;28;01mif\u001b[39;00m status \u001b[38;5;241m!=\u001b[39m CONTINUE:\n",
      "File \u001b[0;32m~/.python/current/lib/python3.12/http/client.py:292\u001b[0m, in \u001b[0;36mHTTPResponse._read_status\u001b[0;34m(self)\u001b[0m\n\u001b[1;32m    291\u001b[0m \u001b[38;5;28;01mdef\u001b[39;00m \u001b[38;5;21m_read_status\u001b[39m(\u001b[38;5;28mself\u001b[39m):\n\u001b[0;32m--> 292\u001b[0m     line \u001b[38;5;241m=\u001b[39m \u001b[38;5;28mstr\u001b[39m(\u001b[38;5;28;43mself\u001b[39;49m\u001b[38;5;241;43m.\u001b[39;49m\u001b[43mfp\u001b[49m\u001b[38;5;241;43m.\u001b[39;49m\u001b[43mreadline\u001b[49m\u001b[43m(\u001b[49m\u001b[43m_MAXLINE\u001b[49m\u001b[43m \u001b[49m\u001b[38;5;241;43m+\u001b[39;49m\u001b[43m \u001b[49m\u001b[38;5;241;43m1\u001b[39;49m\u001b[43m)\u001b[49m, \u001b[38;5;124m\"\u001b[39m\u001b[38;5;124miso-8859-1\u001b[39m\u001b[38;5;124m\"\u001b[39m)\n\u001b[1;32m    293\u001b[0m     \u001b[38;5;28;01mif\u001b[39;00m \u001b[38;5;28mlen\u001b[39m(line) \u001b[38;5;241m>\u001b[39m _MAXLINE:\n",
      "File \u001b[0;32m~/.python/current/lib/python3.12/socket.py:707\u001b[0m, in \u001b[0;36mSocketIO.readinto\u001b[0;34m(self, b)\u001b[0m\n\u001b[1;32m    706\u001b[0m \u001b[38;5;28;01mtry\u001b[39;00m:\n\u001b[0;32m--> 707\u001b[0m     \u001b[38;5;28;01mreturn\u001b[39;00m \u001b[38;5;28;43mself\u001b[39;49m\u001b[38;5;241;43m.\u001b[39;49m\u001b[43m_sock\u001b[49m\u001b[38;5;241;43m.\u001b[39;49m\u001b[43mrecv_into\u001b[49m\u001b[43m(\u001b[49m\u001b[43mb\u001b[49m\u001b[43m)\u001b[49m\n\u001b[1;32m    708\u001b[0m \u001b[38;5;28;01mexcept\u001b[39;00m timeout:\n",
      "\u001b[0;31mTimeoutError\u001b[0m: timed out",
      "\nThe above exception was the direct cause of the following exception:\n",
      "\u001b[0;31mReadTimeoutError\u001b[0m                          Traceback (most recent call last)",
      "File \u001b[0;32m~/.python/current/lib/python3.12/site-packages/elastic_transport/_node/_http_urllib3.py:167\u001b[0m, in \u001b[0;36mUrllib3HttpNode.perform_request\u001b[0;34m(self, method, target, body, headers, request_timeout)\u001b[0m\n\u001b[1;32m    165\u001b[0m     body_to_send \u001b[38;5;241m=\u001b[39m \u001b[38;5;28;01mNone\u001b[39;00m\n\u001b[0;32m--> 167\u001b[0m response \u001b[38;5;241m=\u001b[39m \u001b[38;5;28;43mself\u001b[39;49m\u001b[38;5;241;43m.\u001b[39;49m\u001b[43mpool\u001b[49m\u001b[38;5;241;43m.\u001b[39;49m\u001b[43murlopen\u001b[49m\u001b[43m(\u001b[49m\n\u001b[1;32m    168\u001b[0m \u001b[43m    \u001b[49m\u001b[43mmethod\u001b[49m\u001b[43m,\u001b[49m\n\u001b[1;32m    169\u001b[0m \u001b[43m    \u001b[49m\u001b[43mtarget\u001b[49m\u001b[43m,\u001b[49m\n\u001b[1;32m    170\u001b[0m \u001b[43m    \u001b[49m\u001b[43mbody\u001b[49m\u001b[38;5;241;43m=\u001b[39;49m\u001b[43mbody_to_send\u001b[49m\u001b[43m,\u001b[49m\n\u001b[1;32m    171\u001b[0m \u001b[43m    \u001b[49m\u001b[43mretries\u001b[49m\u001b[38;5;241;43m=\u001b[39;49m\u001b[43mRetry\u001b[49m\u001b[43m(\u001b[49m\u001b[38;5;28;43;01mFalse\u001b[39;49;00m\u001b[43m)\u001b[49m\u001b[43m,\u001b[49m\n\u001b[1;32m    172\u001b[0m \u001b[43m    \u001b[49m\u001b[43mheaders\u001b[49m\u001b[38;5;241;43m=\u001b[39;49m\u001b[43mrequest_headers\u001b[49m\u001b[43m,\u001b[49m\n\u001b[1;32m    173\u001b[0m \u001b[43m    \u001b[49m\u001b[38;5;241;43m*\u001b[39;49m\u001b[38;5;241;43m*\u001b[39;49m\u001b[43mkw\u001b[49m\u001b[43m,\u001b[49m\u001b[43m  \u001b[49m\u001b[38;5;66;43;03m# type: ignore[arg-type]\u001b[39;49;00m\n\u001b[1;32m    174\u001b[0m \u001b[43m\u001b[49m\u001b[43m)\u001b[49m\n\u001b[1;32m    175\u001b[0m response_headers \u001b[38;5;241m=\u001b[39m HttpHeaders(response\u001b[38;5;241m.\u001b[39mheaders)\n",
      "File \u001b[0;32m~/.local/lib/python3.12/site-packages/urllib3/connectionpool.py:843\u001b[0m, in \u001b[0;36mHTTPConnectionPool.urlopen\u001b[0;34m(self, method, url, body, headers, retries, redirect, assert_same_host, timeout, pool_timeout, release_conn, chunked, body_pos, preload_content, decode_content, **response_kw)\u001b[0m\n\u001b[1;32m    841\u001b[0m     new_e \u001b[38;5;241m=\u001b[39m ProtocolError(\u001b[38;5;124m\"\u001b[39m\u001b[38;5;124mConnection aborted.\u001b[39m\u001b[38;5;124m\"\u001b[39m, new_e)\n\u001b[0;32m--> 843\u001b[0m retries \u001b[38;5;241m=\u001b[39m \u001b[43mretries\u001b[49m\u001b[38;5;241;43m.\u001b[39;49m\u001b[43mincrement\u001b[49m\u001b[43m(\u001b[49m\n\u001b[1;32m    844\u001b[0m \u001b[43m    \u001b[49m\u001b[43mmethod\u001b[49m\u001b[43m,\u001b[49m\u001b[43m \u001b[49m\u001b[43murl\u001b[49m\u001b[43m,\u001b[49m\u001b[43m \u001b[49m\u001b[43merror\u001b[49m\u001b[38;5;241;43m=\u001b[39;49m\u001b[43mnew_e\u001b[49m\u001b[43m,\u001b[49m\u001b[43m \u001b[49m\u001b[43m_pool\u001b[49m\u001b[38;5;241;43m=\u001b[39;49m\u001b[38;5;28;43mself\u001b[39;49m\u001b[43m,\u001b[49m\u001b[43m \u001b[49m\u001b[43m_stacktrace\u001b[49m\u001b[38;5;241;43m=\u001b[39;49m\u001b[43msys\u001b[49m\u001b[38;5;241;43m.\u001b[39;49m\u001b[43mexc_info\u001b[49m\u001b[43m(\u001b[49m\u001b[43m)\u001b[49m\u001b[43m[\u001b[49m\u001b[38;5;241;43m2\u001b[39;49m\u001b[43m]\u001b[49m\n\u001b[1;32m    845\u001b[0m \u001b[43m\u001b[49m\u001b[43m)\u001b[49m\n\u001b[1;32m    846\u001b[0m retries\u001b[38;5;241m.\u001b[39msleep()\n",
      "File \u001b[0;32m~/.local/lib/python3.12/site-packages/urllib3/util/retry.py:449\u001b[0m, in \u001b[0;36mRetry.increment\u001b[0;34m(self, method, url, response, error, _pool, _stacktrace)\u001b[0m\n\u001b[1;32m    447\u001b[0m \u001b[38;5;28;01mif\u001b[39;00m \u001b[38;5;28mself\u001b[39m\u001b[38;5;241m.\u001b[39mtotal \u001b[38;5;129;01mis\u001b[39;00m \u001b[38;5;28;01mFalse\u001b[39;00m \u001b[38;5;129;01mand\u001b[39;00m error:\n\u001b[1;32m    448\u001b[0m     \u001b[38;5;66;03m# Disabled, indicate to re-raise the error.\u001b[39;00m\n\u001b[0;32m--> 449\u001b[0m     \u001b[38;5;28;01mraise\u001b[39;00m \u001b[43mreraise\u001b[49m\u001b[43m(\u001b[49m\u001b[38;5;28;43mtype\u001b[39;49m\u001b[43m(\u001b[49m\u001b[43merror\u001b[49m\u001b[43m)\u001b[49m\u001b[43m,\u001b[49m\u001b[43m \u001b[49m\u001b[43merror\u001b[49m\u001b[43m,\u001b[49m\u001b[43m \u001b[49m\u001b[43m_stacktrace\u001b[49m\u001b[43m)\u001b[49m\n\u001b[1;32m    451\u001b[0m total \u001b[38;5;241m=\u001b[39m \u001b[38;5;28mself\u001b[39m\u001b[38;5;241m.\u001b[39mtotal\n",
      "File \u001b[0;32m~/.local/lib/python3.12/site-packages/urllib3/util/util.py:39\u001b[0m, in \u001b[0;36mreraise\u001b[0;34m(tp, value, tb)\u001b[0m\n\u001b[1;32m     38\u001b[0m         \u001b[38;5;28;01mraise\u001b[39;00m value\u001b[38;5;241m.\u001b[39mwith_traceback(tb)\n\u001b[0;32m---> 39\u001b[0m     \u001b[38;5;28;01mraise\u001b[39;00m value\n\u001b[1;32m     40\u001b[0m \u001b[38;5;28;01mfinally\u001b[39;00m:\n",
      "File \u001b[0;32m~/.local/lib/python3.12/site-packages/urllib3/connectionpool.py:789\u001b[0m, in \u001b[0;36mHTTPConnectionPool.urlopen\u001b[0;34m(self, method, url, body, headers, retries, redirect, assert_same_host, timeout, pool_timeout, release_conn, chunked, body_pos, preload_content, decode_content, **response_kw)\u001b[0m\n\u001b[1;32m    788\u001b[0m \u001b[38;5;66;03m# Make the request on the HTTPConnection object\u001b[39;00m\n\u001b[0;32m--> 789\u001b[0m response \u001b[38;5;241m=\u001b[39m \u001b[38;5;28;43mself\u001b[39;49m\u001b[38;5;241;43m.\u001b[39;49m\u001b[43m_make_request\u001b[49m\u001b[43m(\u001b[49m\n\u001b[1;32m    790\u001b[0m \u001b[43m    \u001b[49m\u001b[43mconn\u001b[49m\u001b[43m,\u001b[49m\n\u001b[1;32m    791\u001b[0m \u001b[43m    \u001b[49m\u001b[43mmethod\u001b[49m\u001b[43m,\u001b[49m\n\u001b[1;32m    792\u001b[0m \u001b[43m    \u001b[49m\u001b[43murl\u001b[49m\u001b[43m,\u001b[49m\n\u001b[1;32m    793\u001b[0m \u001b[43m    \u001b[49m\u001b[43mtimeout\u001b[49m\u001b[38;5;241;43m=\u001b[39;49m\u001b[43mtimeout_obj\u001b[49m\u001b[43m,\u001b[49m\n\u001b[1;32m    794\u001b[0m \u001b[43m    \u001b[49m\u001b[43mbody\u001b[49m\u001b[38;5;241;43m=\u001b[39;49m\u001b[43mbody\u001b[49m\u001b[43m,\u001b[49m\n\u001b[1;32m    795\u001b[0m \u001b[43m    \u001b[49m\u001b[43mheaders\u001b[49m\u001b[38;5;241;43m=\u001b[39;49m\u001b[43mheaders\u001b[49m\u001b[43m,\u001b[49m\n\u001b[1;32m    796\u001b[0m \u001b[43m    \u001b[49m\u001b[43mchunked\u001b[49m\u001b[38;5;241;43m=\u001b[39;49m\u001b[43mchunked\u001b[49m\u001b[43m,\u001b[49m\n\u001b[1;32m    797\u001b[0m \u001b[43m    \u001b[49m\u001b[43mretries\u001b[49m\u001b[38;5;241;43m=\u001b[39;49m\u001b[43mretries\u001b[49m\u001b[43m,\u001b[49m\n\u001b[1;32m    798\u001b[0m \u001b[43m    \u001b[49m\u001b[43mresponse_conn\u001b[49m\u001b[38;5;241;43m=\u001b[39;49m\u001b[43mresponse_conn\u001b[49m\u001b[43m,\u001b[49m\n\u001b[1;32m    799\u001b[0m \u001b[43m    \u001b[49m\u001b[43mpreload_content\u001b[49m\u001b[38;5;241;43m=\u001b[39;49m\u001b[43mpreload_content\u001b[49m\u001b[43m,\u001b[49m\n\u001b[1;32m    800\u001b[0m \u001b[43m    \u001b[49m\u001b[43mdecode_content\u001b[49m\u001b[38;5;241;43m=\u001b[39;49m\u001b[43mdecode_content\u001b[49m\u001b[43m,\u001b[49m\n\u001b[1;32m    801\u001b[0m \u001b[43m    \u001b[49m\u001b[38;5;241;43m*\u001b[39;49m\u001b[38;5;241;43m*\u001b[39;49m\u001b[43mresponse_kw\u001b[49m\u001b[43m,\u001b[49m\n\u001b[1;32m    802\u001b[0m \u001b[43m\u001b[49m\u001b[43m)\u001b[49m\n\u001b[1;32m    804\u001b[0m \u001b[38;5;66;03m# Everything went great!\u001b[39;00m\n",
      "File \u001b[0;32m~/.local/lib/python3.12/site-packages/urllib3/connectionpool.py:538\u001b[0m, in \u001b[0;36mHTTPConnectionPool._make_request\u001b[0;34m(self, conn, method, url, body, headers, retries, timeout, chunked, response_conn, preload_content, decode_content, enforce_content_length)\u001b[0m\n\u001b[1;32m    537\u001b[0m \u001b[38;5;28;01mexcept\u001b[39;00m (BaseSSLError, \u001b[38;5;167;01mOSError\u001b[39;00m) \u001b[38;5;28;01mas\u001b[39;00m e:\n\u001b[0;32m--> 538\u001b[0m     \u001b[38;5;28;43mself\u001b[39;49m\u001b[38;5;241;43m.\u001b[39;49m\u001b[43m_raise_timeout\u001b[49m\u001b[43m(\u001b[49m\u001b[43merr\u001b[49m\u001b[38;5;241;43m=\u001b[39;49m\u001b[43me\u001b[49m\u001b[43m,\u001b[49m\u001b[43m \u001b[49m\u001b[43murl\u001b[49m\u001b[38;5;241;43m=\u001b[39;49m\u001b[43murl\u001b[49m\u001b[43m,\u001b[49m\u001b[43m \u001b[49m\u001b[43mtimeout_value\u001b[49m\u001b[38;5;241;43m=\u001b[39;49m\u001b[43mread_timeout\u001b[49m\u001b[43m)\u001b[49m\n\u001b[1;32m    539\u001b[0m     \u001b[38;5;28;01mraise\u001b[39;00m\n",
      "File \u001b[0;32m~/.local/lib/python3.12/site-packages/urllib3/connectionpool.py:369\u001b[0m, in \u001b[0;36mHTTPConnectionPool._raise_timeout\u001b[0;34m(self, err, url, timeout_value)\u001b[0m\n\u001b[1;32m    368\u001b[0m \u001b[38;5;28;01mif\u001b[39;00m \u001b[38;5;28misinstance\u001b[39m(err, SocketTimeout):\n\u001b[0;32m--> 369\u001b[0m     \u001b[38;5;28;01mraise\u001b[39;00m ReadTimeoutError(\n\u001b[1;32m    370\u001b[0m         \u001b[38;5;28mself\u001b[39m, url, \u001b[38;5;124mf\u001b[39m\u001b[38;5;124m\"\u001b[39m\u001b[38;5;124mRead timed out. (read timeout=\u001b[39m\u001b[38;5;132;01m{\u001b[39;00mtimeout_value\u001b[38;5;132;01m}\u001b[39;00m\u001b[38;5;124m)\u001b[39m\u001b[38;5;124m\"\u001b[39m\n\u001b[1;32m    371\u001b[0m     ) \u001b[38;5;28;01mfrom\u001b[39;00m \u001b[38;5;21;01merr\u001b[39;00m\n\u001b[1;32m    373\u001b[0m \u001b[38;5;66;03m# See the above comment about EAGAIN in Python 3.\u001b[39;00m\n",
      "\u001b[0;31mReadTimeoutError\u001b[0m: HTTPConnectionPool(host='localhost', port=9200): Read timed out. (read timeout=30)",
      "\nThe above exception was the direct cause of the following exception:\n",
      "\u001b[0;31mConnectionTimeout\u001b[0m                         Traceback (most recent call last)",
      "Cell \u001b[0;32mIn[30], line 2\u001b[0m\n\u001b[1;32m      1\u001b[0m \u001b[38;5;28;01mfor\u001b[39;00m doc \u001b[38;5;129;01min\u001b[39;00m notebook_tqdm(operations):\n\u001b[0;32m----> 2\u001b[0m     \u001b[43mes_client\u001b[49m\u001b[38;5;241;43m.\u001b[39;49m\u001b[43mindex\u001b[49m\u001b[43m(\u001b[49m\u001b[43mindex\u001b[49m\u001b[38;5;241;43m=\u001b[39;49m\u001b[43mindex_name\u001b[49m\u001b[43m,\u001b[49m\u001b[43m \u001b[49m\u001b[43mdocument\u001b[49m\u001b[38;5;241;43m=\u001b[39;49m\u001b[43mdoc\u001b[49m\u001b[43m)\u001b[49m\n",
      "File \u001b[0;32m~/.python/current/lib/python3.12/site-packages/elasticsearch/_sync/client/utils.py:455\u001b[0m, in \u001b[0;36m_rewrite_parameters.<locals>.wrapper.<locals>.wrapped\u001b[0;34m(*args, **kwargs)\u001b[0m\n\u001b[1;32m    452\u001b[0m         \u001b[38;5;28;01mexcept\u001b[39;00m \u001b[38;5;167;01mKeyError\u001b[39;00m:\n\u001b[1;32m    453\u001b[0m             \u001b[38;5;28;01mpass\u001b[39;00m\n\u001b[0;32m--> 455\u001b[0m \u001b[38;5;28;01mreturn\u001b[39;00m \u001b[43mapi\u001b[49m\u001b[43m(\u001b[49m\u001b[38;5;241;43m*\u001b[39;49m\u001b[43margs\u001b[49m\u001b[43m,\u001b[49m\u001b[43m \u001b[49m\u001b[38;5;241;43m*\u001b[39;49m\u001b[38;5;241;43m*\u001b[39;49m\u001b[43mkwargs\u001b[49m\u001b[43m)\u001b[49m\n",
      "File \u001b[0;32m~/.python/current/lib/python3.12/site-packages/elasticsearch/_sync/client/__init__.py:2572\u001b[0m, in \u001b[0;36mElasticsearch.index\u001b[0;34m(self, index, document, body, id, error_trace, filter_path, human, if_primary_term, if_seq_no, op_type, pipeline, pretty, refresh, require_alias, routing, timeout, version, version_type, wait_for_active_shards)\u001b[0m\n\u001b[1;32m   2570\u001b[0m __body \u001b[38;5;241m=\u001b[39m document \u001b[38;5;28;01mif\u001b[39;00m document \u001b[38;5;129;01mis\u001b[39;00m \u001b[38;5;129;01mnot\u001b[39;00m \u001b[38;5;28;01mNone\u001b[39;00m \u001b[38;5;28;01melse\u001b[39;00m body\n\u001b[1;32m   2571\u001b[0m __headers \u001b[38;5;241m=\u001b[39m {\u001b[38;5;124m\"\u001b[39m\u001b[38;5;124maccept\u001b[39m\u001b[38;5;124m\"\u001b[39m: \u001b[38;5;124m\"\u001b[39m\u001b[38;5;124mapplication/json\u001b[39m\u001b[38;5;124m\"\u001b[39m, \u001b[38;5;124m\"\u001b[39m\u001b[38;5;124mcontent-type\u001b[39m\u001b[38;5;124m\"\u001b[39m: \u001b[38;5;124m\"\u001b[39m\u001b[38;5;124mapplication/json\u001b[39m\u001b[38;5;124m\"\u001b[39m}\n\u001b[0;32m-> 2572\u001b[0m \u001b[38;5;28;01mreturn\u001b[39;00m \u001b[38;5;28;43mself\u001b[39;49m\u001b[38;5;241;43m.\u001b[39;49m\u001b[43mperform_request\u001b[49m\u001b[43m(\u001b[49m\u001b[43m  \u001b[49m\u001b[38;5;66;43;03m# type: ignore[return-value]\u001b[39;49;00m\n\u001b[1;32m   2573\u001b[0m \u001b[43m    \u001b[49m\u001b[43m__method\u001b[49m\u001b[43m,\u001b[49m\n\u001b[1;32m   2574\u001b[0m \u001b[43m    \u001b[49m\u001b[43m__path\u001b[49m\u001b[43m,\u001b[49m\n\u001b[1;32m   2575\u001b[0m \u001b[43m    \u001b[49m\u001b[43mparams\u001b[49m\u001b[38;5;241;43m=\u001b[39;49m\u001b[43m__query\u001b[49m\u001b[43m,\u001b[49m\n\u001b[1;32m   2576\u001b[0m \u001b[43m    \u001b[49m\u001b[43mheaders\u001b[49m\u001b[38;5;241;43m=\u001b[39;49m\u001b[43m__headers\u001b[49m\u001b[43m,\u001b[49m\n\u001b[1;32m   2577\u001b[0m \u001b[43m    \u001b[49m\u001b[43mbody\u001b[49m\u001b[38;5;241;43m=\u001b[39;49m\u001b[43m__body\u001b[49m\u001b[43m,\u001b[49m\n\u001b[1;32m   2578\u001b[0m \u001b[43m    \u001b[49m\u001b[43mendpoint_id\u001b[49m\u001b[38;5;241;43m=\u001b[39;49m\u001b[38;5;124;43m\"\u001b[39;49m\u001b[38;5;124;43mindex\u001b[39;49m\u001b[38;5;124;43m\"\u001b[39;49m\u001b[43m,\u001b[49m\n\u001b[1;32m   2579\u001b[0m \u001b[43m    \u001b[49m\u001b[43mpath_parts\u001b[49m\u001b[38;5;241;43m=\u001b[39;49m\u001b[43m__path_parts\u001b[49m\u001b[43m,\u001b[49m\n\u001b[1;32m   2580\u001b[0m \u001b[43m\u001b[49m\u001b[43m)\u001b[49m\n",
      "File \u001b[0;32m~/.python/current/lib/python3.12/site-packages/elasticsearch/_sync/client/_base.py:271\u001b[0m, in \u001b[0;36mBaseClient.perform_request\u001b[0;34m(self, method, path, params, headers, body, endpoint_id, path_parts)\u001b[0m\n\u001b[1;32m    255\u001b[0m \u001b[38;5;28;01mdef\u001b[39;00m \u001b[38;5;21mperform_request\u001b[39m(\n\u001b[1;32m    256\u001b[0m     \u001b[38;5;28mself\u001b[39m,\n\u001b[1;32m    257\u001b[0m     method: \u001b[38;5;28mstr\u001b[39m,\n\u001b[0;32m   (...)\u001b[0m\n\u001b[1;32m    264\u001b[0m     path_parts: Optional[Mapping[\u001b[38;5;28mstr\u001b[39m, Any]] \u001b[38;5;241m=\u001b[39m \u001b[38;5;28;01mNone\u001b[39;00m,\n\u001b[1;32m    265\u001b[0m ) \u001b[38;5;241m-\u001b[39m\u001b[38;5;241m>\u001b[39m ApiResponse[Any]:\n\u001b[1;32m    266\u001b[0m     \u001b[38;5;28;01mwith\u001b[39;00m \u001b[38;5;28mself\u001b[39m\u001b[38;5;241m.\u001b[39m_otel\u001b[38;5;241m.\u001b[39mspan(\n\u001b[1;32m    267\u001b[0m         method,\n\u001b[1;32m    268\u001b[0m         endpoint_id\u001b[38;5;241m=\u001b[39mendpoint_id,\n\u001b[1;32m    269\u001b[0m         path_parts\u001b[38;5;241m=\u001b[39mpath_parts \u001b[38;5;129;01mor\u001b[39;00m {},\n\u001b[1;32m    270\u001b[0m     ) \u001b[38;5;28;01mas\u001b[39;00m otel_span:\n\u001b[0;32m--> 271\u001b[0m         response \u001b[38;5;241m=\u001b[39m \u001b[38;5;28;43mself\u001b[39;49m\u001b[38;5;241;43m.\u001b[39;49m\u001b[43m_perform_request\u001b[49m\u001b[43m(\u001b[49m\n\u001b[1;32m    272\u001b[0m \u001b[43m            \u001b[49m\u001b[43mmethod\u001b[49m\u001b[43m,\u001b[49m\n\u001b[1;32m    273\u001b[0m \u001b[43m            \u001b[49m\u001b[43mpath\u001b[49m\u001b[43m,\u001b[49m\n\u001b[1;32m    274\u001b[0m \u001b[43m            \u001b[49m\u001b[43mparams\u001b[49m\u001b[38;5;241;43m=\u001b[39;49m\u001b[43mparams\u001b[49m\u001b[43m,\u001b[49m\n\u001b[1;32m    275\u001b[0m \u001b[43m            \u001b[49m\u001b[43mheaders\u001b[49m\u001b[38;5;241;43m=\u001b[39;49m\u001b[43mheaders\u001b[49m\u001b[43m,\u001b[49m\n\u001b[1;32m    276\u001b[0m \u001b[43m            \u001b[49m\u001b[43mbody\u001b[49m\u001b[38;5;241;43m=\u001b[39;49m\u001b[43mbody\u001b[49m\u001b[43m,\u001b[49m\n\u001b[1;32m    277\u001b[0m \u001b[43m            \u001b[49m\u001b[43motel_span\u001b[49m\u001b[38;5;241;43m=\u001b[39;49m\u001b[43motel_span\u001b[49m\u001b[43m,\u001b[49m\n\u001b[1;32m    278\u001b[0m \u001b[43m        \u001b[49m\u001b[43m)\u001b[49m\n\u001b[1;32m    279\u001b[0m         otel_span\u001b[38;5;241m.\u001b[39mset_elastic_cloud_metadata(response\u001b[38;5;241m.\u001b[39mmeta\u001b[38;5;241m.\u001b[39mheaders)\n\u001b[1;32m    280\u001b[0m         \u001b[38;5;28;01mreturn\u001b[39;00m response\n",
      "File \u001b[0;32m~/.python/current/lib/python3.12/site-packages/elasticsearch/_sync/client/_base.py:316\u001b[0m, in \u001b[0;36mBaseClient._perform_request\u001b[0;34m(self, method, path, params, headers, body, otel_span)\u001b[0m\n\u001b[1;32m    313\u001b[0m \u001b[38;5;28;01melse\u001b[39;00m:\n\u001b[1;32m    314\u001b[0m     target \u001b[38;5;241m=\u001b[39m path\n\u001b[0;32m--> 316\u001b[0m meta, resp_body \u001b[38;5;241m=\u001b[39m \u001b[38;5;28;43mself\u001b[39;49m\u001b[38;5;241;43m.\u001b[39;49m\u001b[43mtransport\u001b[49m\u001b[38;5;241;43m.\u001b[39;49m\u001b[43mperform_request\u001b[49m\u001b[43m(\u001b[49m\n\u001b[1;32m    317\u001b[0m \u001b[43m    \u001b[49m\u001b[43mmethod\u001b[49m\u001b[43m,\u001b[49m\n\u001b[1;32m    318\u001b[0m \u001b[43m    \u001b[49m\u001b[43mtarget\u001b[49m\u001b[43m,\u001b[49m\n\u001b[1;32m    319\u001b[0m \u001b[43m    \u001b[49m\u001b[43mheaders\u001b[49m\u001b[38;5;241;43m=\u001b[39;49m\u001b[43mrequest_headers\u001b[49m\u001b[43m,\u001b[49m\n\u001b[1;32m    320\u001b[0m \u001b[43m    \u001b[49m\u001b[43mbody\u001b[49m\u001b[38;5;241;43m=\u001b[39;49m\u001b[43mbody\u001b[49m\u001b[43m,\u001b[49m\n\u001b[1;32m    321\u001b[0m \u001b[43m    \u001b[49m\u001b[43mrequest_timeout\u001b[49m\u001b[38;5;241;43m=\u001b[39;49m\u001b[38;5;28;43mself\u001b[39;49m\u001b[38;5;241;43m.\u001b[39;49m\u001b[43m_request_timeout\u001b[49m\u001b[43m,\u001b[49m\n\u001b[1;32m    322\u001b[0m \u001b[43m    \u001b[49m\u001b[43mmax_retries\u001b[49m\u001b[38;5;241;43m=\u001b[39;49m\u001b[38;5;28;43mself\u001b[39;49m\u001b[38;5;241;43m.\u001b[39;49m\u001b[43m_max_retries\u001b[49m\u001b[43m,\u001b[49m\n\u001b[1;32m    323\u001b[0m \u001b[43m    \u001b[49m\u001b[43mretry_on_status\u001b[49m\u001b[38;5;241;43m=\u001b[39;49m\u001b[38;5;28;43mself\u001b[39;49m\u001b[38;5;241;43m.\u001b[39;49m\u001b[43m_retry_on_status\u001b[49m\u001b[43m,\u001b[49m\n\u001b[1;32m    324\u001b[0m \u001b[43m    \u001b[49m\u001b[43mretry_on_timeout\u001b[49m\u001b[38;5;241;43m=\u001b[39;49m\u001b[38;5;28;43mself\u001b[39;49m\u001b[38;5;241;43m.\u001b[39;49m\u001b[43m_retry_on_timeout\u001b[49m\u001b[43m,\u001b[49m\n\u001b[1;32m    325\u001b[0m \u001b[43m    \u001b[49m\u001b[43mclient_meta\u001b[49m\u001b[38;5;241;43m=\u001b[39;49m\u001b[38;5;28;43mself\u001b[39;49m\u001b[38;5;241;43m.\u001b[39;49m\u001b[43m_client_meta\u001b[49m\u001b[43m,\u001b[49m\n\u001b[1;32m    326\u001b[0m \u001b[43m    \u001b[49m\u001b[43motel_span\u001b[49m\u001b[38;5;241;43m=\u001b[39;49m\u001b[43motel_span\u001b[49m\u001b[43m,\u001b[49m\n\u001b[1;32m    327\u001b[0m \u001b[43m\u001b[49m\u001b[43m)\u001b[49m\n\u001b[1;32m    329\u001b[0m \u001b[38;5;66;03m# HEAD with a 404 is returned as a normal response\u001b[39;00m\n\u001b[1;32m    330\u001b[0m \u001b[38;5;66;03m# since this is used as an 'exists' functionality.\u001b[39;00m\n\u001b[1;32m    331\u001b[0m \u001b[38;5;28;01mif\u001b[39;00m \u001b[38;5;129;01mnot\u001b[39;00m (method \u001b[38;5;241m==\u001b[39m \u001b[38;5;124m\"\u001b[39m\u001b[38;5;124mHEAD\u001b[39m\u001b[38;5;124m\"\u001b[39m \u001b[38;5;129;01mand\u001b[39;00m meta\u001b[38;5;241m.\u001b[39mstatus \u001b[38;5;241m==\u001b[39m \u001b[38;5;241m404\u001b[39m) \u001b[38;5;129;01mand\u001b[39;00m (\n\u001b[1;32m    332\u001b[0m     \u001b[38;5;129;01mnot\u001b[39;00m \u001b[38;5;241m200\u001b[39m \u001b[38;5;241m<\u001b[39m\u001b[38;5;241m=\u001b[39m meta\u001b[38;5;241m.\u001b[39mstatus \u001b[38;5;241m<\u001b[39m \u001b[38;5;241m299\u001b[39m\n\u001b[1;32m    333\u001b[0m     \u001b[38;5;129;01mand\u001b[39;00m (\n\u001b[0;32m   (...)\u001b[0m\n\u001b[1;32m    337\u001b[0m     )\n\u001b[1;32m    338\u001b[0m ):\n",
      "File \u001b[0;32m~/.python/current/lib/python3.12/site-packages/elastic_transport/_transport.py:342\u001b[0m, in \u001b[0;36mTransport.perform_request\u001b[0;34m(self, method, target, body, headers, max_retries, retry_on_status, retry_on_timeout, request_timeout, client_meta, otel_span)\u001b[0m\n\u001b[1;32m    340\u001b[0m \u001b[38;5;28;01mtry\u001b[39;00m:\n\u001b[1;32m    341\u001b[0m     otel_span\u001b[38;5;241m.\u001b[39mset_node_metadata(node\u001b[38;5;241m.\u001b[39mhost, node\u001b[38;5;241m.\u001b[39mport, node\u001b[38;5;241m.\u001b[39mbase_url, target)\n\u001b[0;32m--> 342\u001b[0m     resp \u001b[38;5;241m=\u001b[39m \u001b[43mnode\u001b[49m\u001b[38;5;241;43m.\u001b[39;49m\u001b[43mperform_request\u001b[49m\u001b[43m(\u001b[49m\n\u001b[1;32m    343\u001b[0m \u001b[43m        \u001b[49m\u001b[43mmethod\u001b[49m\u001b[43m,\u001b[49m\n\u001b[1;32m    344\u001b[0m \u001b[43m        \u001b[49m\u001b[43mtarget\u001b[49m\u001b[43m,\u001b[49m\n\u001b[1;32m    345\u001b[0m \u001b[43m        \u001b[49m\u001b[43mbody\u001b[49m\u001b[38;5;241;43m=\u001b[39;49m\u001b[43mrequest_body\u001b[49m\u001b[43m,\u001b[49m\n\u001b[1;32m    346\u001b[0m \u001b[43m        \u001b[49m\u001b[43mheaders\u001b[49m\u001b[38;5;241;43m=\u001b[39;49m\u001b[43mrequest_headers\u001b[49m\u001b[43m,\u001b[49m\n\u001b[1;32m    347\u001b[0m \u001b[43m        \u001b[49m\u001b[43mrequest_timeout\u001b[49m\u001b[38;5;241;43m=\u001b[39;49m\u001b[43mrequest_timeout\u001b[49m\u001b[43m,\u001b[49m\n\u001b[1;32m    348\u001b[0m \u001b[43m    \u001b[49m\u001b[43m)\u001b[49m\n\u001b[1;32m    349\u001b[0m     _logger\u001b[38;5;241m.\u001b[39minfo(\n\u001b[1;32m    350\u001b[0m         \u001b[38;5;124m\"\u001b[39m\u001b[38;5;132;01m%s\u001b[39;00m\u001b[38;5;124m \u001b[39m\u001b[38;5;132;01m%s\u001b[39;00m\u001b[38;5;132;01m%s\u001b[39;00m\u001b[38;5;124m [status:\u001b[39m\u001b[38;5;132;01m%s\u001b[39;00m\u001b[38;5;124m duration:\u001b[39m\u001b[38;5;132;01m%.3f\u001b[39;00m\u001b[38;5;124ms]\u001b[39m\u001b[38;5;124m\"\u001b[39m\n\u001b[1;32m    351\u001b[0m         \u001b[38;5;241m%\u001b[39m (\n\u001b[0;32m   (...)\u001b[0m\n\u001b[1;32m    357\u001b[0m         )\n\u001b[1;32m    358\u001b[0m     )\n\u001b[1;32m    360\u001b[0m     \u001b[38;5;28;01mif\u001b[39;00m method \u001b[38;5;241m!=\u001b[39m \u001b[38;5;124m\"\u001b[39m\u001b[38;5;124mHEAD\u001b[39m\u001b[38;5;124m\"\u001b[39m:\n",
      "File \u001b[0;32m~/.python/current/lib/python3.12/site-packages/elastic_transport/_node/_http_urllib3.py:202\u001b[0m, in \u001b[0;36mUrllib3HttpNode.perform_request\u001b[0;34m(self, method, target, body, headers, request_timeout)\u001b[0m\n\u001b[1;32m    194\u001b[0m         err \u001b[38;5;241m=\u001b[39m \u001b[38;5;167;01mConnectionError\u001b[39;00m(\u001b[38;5;28mstr\u001b[39m(e), errors\u001b[38;5;241m=\u001b[39m(e,))\n\u001b[1;32m    195\u001b[0m     \u001b[38;5;28mself\u001b[39m\u001b[38;5;241m.\u001b[39m_log_request(\n\u001b[1;32m    196\u001b[0m         method\u001b[38;5;241m=\u001b[39mmethod,\n\u001b[1;32m    197\u001b[0m         target\u001b[38;5;241m=\u001b[39mtarget,\n\u001b[0;32m   (...)\u001b[0m\n\u001b[1;32m    200\u001b[0m         exception\u001b[38;5;241m=\u001b[39merr,\n\u001b[1;32m    201\u001b[0m     )\n\u001b[0;32m--> 202\u001b[0m     \u001b[38;5;28;01mraise\u001b[39;00m err \u001b[38;5;28;01mfrom\u001b[39;00m \u001b[38;5;21;01me\u001b[39;00m\n\u001b[1;32m    204\u001b[0m meta \u001b[38;5;241m=\u001b[39m ApiResponseMeta(\n\u001b[1;32m    205\u001b[0m     node\u001b[38;5;241m=\u001b[39m\u001b[38;5;28mself\u001b[39m\u001b[38;5;241m.\u001b[39mconfig,\n\u001b[1;32m    206\u001b[0m     duration\u001b[38;5;241m=\u001b[39mduration,\n\u001b[0;32m   (...)\u001b[0m\n\u001b[1;32m    209\u001b[0m     headers\u001b[38;5;241m=\u001b[39mresponse_headers,\n\u001b[1;32m    210\u001b[0m )\n\u001b[1;32m    211\u001b[0m \u001b[38;5;28mself\u001b[39m\u001b[38;5;241m.\u001b[39m_log_request(\n\u001b[1;32m    212\u001b[0m     method\u001b[38;5;241m=\u001b[39mmethod,\n\u001b[1;32m    213\u001b[0m     target\u001b[38;5;241m=\u001b[39mtarget,\n\u001b[0;32m   (...)\u001b[0m\n\u001b[1;32m    217\u001b[0m     response\u001b[38;5;241m=\u001b[39mdata,\n\u001b[1;32m    218\u001b[0m )\n",
      "\u001b[0;31mConnectionTimeout\u001b[0m: Connection timeout caused by: ConnectionTimeout(Connection timeout caused by: ReadTimeoutError(HTTPConnectionPool(host='localhost', port=9200): Read timed out. (read timeout=30)))"
     ]
    }
   ],
   "source": [
    "for doc in operations:\n",
    "    for attempt in range(3):  # Intentar hasta 3 veces\n",
    "        try:\n",
    "            es_client.index(index=index_name, document=doc)\n",
    "            break  # Salir del bucle si la operación tiene éxito\n",
    "        except ConnectionTimeout:\n",
    "            print(f\"Tiempo de espera agotado al indexar el documento. Reintentando ({attempt + 1}/3)...\")\n",
    "            time.sleep(5) "
   ]
  },
  {
   "cell_type": "markdown",
   "metadata": {},
   "source": [
    "### query search"
   ]
  },
  {
   "cell_type": "code",
   "execution_count": null,
   "metadata": {},
   "outputs": [],
   "source": [
    "search_term = \"windows or mac?\"\n",
    "vec_search = model.encode(search_term)"
   ]
  },
  {
   "cell_type": "code",
   "execution_count": null,
   "metadata": {},
   "outputs": [],
   "source": [
    "query = {\n",
    "    \"field\" : \"text_vector\", #where to look\n",
    "    \"query_vector\": vec_search,\n",
    "    \"k\": 5,#nb of responess\n",
    "    \"num_candidates\":10000\n",
    "}"
   ]
  },
  {
   "cell_type": "code",
   "execution_count": null,
   "metadata": {},
   "outputs": [],
   "source": [
    "query_complex = {\n",
    "    \"bool\": {\n",
    "        \"must\": {\n",
    "            \"multi_match\" :\n",
    "            {\"query\": \"windows or python?\",\n",
    "            \"fields\": [\"text\", \"question\", \"course\", \"title\"],\n",
    "            \"type\": \"best_fields\"}\n",
    "        }\n",
    "    }\n",
    "}"
   ]
  },
  {
   "cell_type": "code",
   "execution_count": 31,
   "metadata": {},
   "outputs": [
    {
     "ename": "NameError",
     "evalue": "name 'query' is not defined",
     "output_type": "error",
     "traceback": [
      "\u001b[0;31m---------------------------------------------------------------------------\u001b[0m",
      "\u001b[0;31mNameError\u001b[0m                                 Traceback (most recent call last)",
      "Cell \u001b[0;32mIn[31], line 1\u001b[0m\n\u001b[0;32m----> 1\u001b[0m res \u001b[38;5;241m=\u001b[39m es_client\u001b[38;5;241m.\u001b[39msearch(index\u001b[38;5;241m=\u001b[39mindex_name, knn\u001b[38;5;241m=\u001b[39m\u001b[43mquery\u001b[49m, source\u001b[38;5;241m=\u001b[39m[\u001b[38;5;124m\"\u001b[39m\u001b[38;5;124mtext\u001b[39m\u001b[38;5;124m\"\u001b[39m, \u001b[38;5;124m\"\u001b[39m\u001b[38;5;124msection\u001b[39m\u001b[38;5;124m\"\u001b[39m, \u001b[38;5;124m\"\u001b[39m\u001b[38;5;124mquestion\u001b[39m\u001b[38;5;124m\"\u001b[39m, \u001b[38;5;124m\"\u001b[39m\u001b[38;5;124mcourse\u001b[39m\u001b[38;5;124m\"\u001b[39m])\n\u001b[1;32m      2\u001b[0m res[\u001b[38;5;124m\"\u001b[39m\u001b[38;5;124mhits\u001b[39m\u001b[38;5;124m\"\u001b[39m][\u001b[38;5;124m\"\u001b[39m\u001b[38;5;124mhits\u001b[39m\u001b[38;5;124m\"\u001b[39m]\n",
      "\u001b[0;31mNameError\u001b[0m: name 'query' is not defined"
     ]
    }
   ],
   "source": [
    "res = es_client.search(index=index_name, knn=query, source=[\"text\", \"section\", \"question\", \"course\"])\n",
    "res[\"hits\"][\"hits\"]"
   ]
  },
  {
   "cell_type": "code",
   "execution_count": null,
   "metadata": {},
   "outputs": [],
   "source": []
  },
  {
   "cell_type": "code",
   "execution_count": null,
   "metadata": {},
   "outputs": [],
   "source": []
  },
  {
   "cell_type": "code",
   "execution_count": null,
   "metadata": {},
   "outputs": [],
   "source": []
  }
 ],
 "metadata": {
  "kernelspec": {
   "display_name": "Python 3",
   "language": "python",
   "name": "python3"
  },
  "language_info": {
   "codemirror_mode": {
    "name": "ipython",
    "version": 3
   },
   "file_extension": ".py",
   "mimetype": "text/x-python",
   "name": "python",
   "nbconvert_exporter": "python",
   "pygments_lexer": "ipython3",
   "version": "3.12.1"
  }
 },
 "nbformat": 4,
 "nbformat_minor": 2
}
